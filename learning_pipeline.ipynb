{
 "cells": [
  {
   "cell_type": "code",
   "execution_count": 1,
   "id": "9bd85b4e",
   "metadata": {},
   "outputs": [],
   "source": [
    "import pandas as pd\n",
    "import numpy as np\n",
    "import matplotlib.pyplot as plt\n",
    "import seaborn as sns\n",
    "from sklearn.pipeline import Pipeline\n",
    "from sklearn.preprocessing import PolynomialFeatures, StandardScaler\n",
    "from sklearn.linear_model import LinearRegression\n",
    "from sklearn.model_selection import train_test_split, cross_val_score\n",
    "from sklearn.metrics import mean_squared_error, r2_score\n",
    "import joblib"
   ]
  },
  {
   "cell_type": "code",
   "execution_count": 2,
   "id": "5d846c91",
   "metadata": {},
   "outputs": [
    {
     "name": "stdout",
     "output_type": "stream",
     "text": [
      "<class 'pandas.core.frame.DataFrame'>\n",
      "RangeIndex: 46824 entries, 0 to 46823\n",
      "Data columns (total 7 columns):\n",
      " #   Column                Non-Null Count  Dtype  \n",
      "---  ------                --------------  -----  \n",
      " 0   time                  46824 non-null  object \n",
      " 1   temperature_2m        46784 non-null  float64\n",
      " 2   relative_humidity_2m  46784 non-null  float64\n",
      " 3   precipitation         46784 non-null  float64\n",
      " 4   weather_code          46784 non-null  float64\n",
      " 5   rain                  46784 non-null  float64\n",
      " 6   wind_speed_10m        46784 non-null  float64\n",
      "dtypes: float64(6), object(1)\n",
      "memory usage: 2.5+ MB\n",
      "None\n",
      "               time  temperature_2m  relative_humidity_2m  precipitation  \\\n",
      "0  2020-01-01T00:00            22.7                  95.0            0.2   \n",
      "1  2020-01-01T01:00            22.9                  94.0            0.3   \n",
      "2  2020-01-01T02:00            22.9                  92.0            0.4   \n",
      "3  2020-01-01T03:00            23.2                  91.0            0.2   \n",
      "4  2020-01-01T04:00            22.6                  92.0            0.3   \n",
      "\n",
      "   weather_code  rain  wind_speed_10m  \n",
      "0          51.0   0.2            14.0  \n",
      "1          51.0   0.3            12.3  \n",
      "2          51.0   0.4            13.8  \n",
      "3          51.0   0.2            10.9  \n",
      "4          51.0   0.3            17.1  \n"
     ]
    }
   ],
   "source": [
    "df = pd.read_csv(\"weather_hourly_danang_2020_2025.csv\")\n",
    "print(df.info())\n",
    "print(df.head())"
   ]
  },
  {
   "cell_type": "code",
   "execution_count": 3,
   "id": "a7d1b4a6",
   "metadata": {},
   "outputs": [],
   "source": [
    "# Convert to datetime\n",
    "df[\"time\"] = pd.to_datetime(df[\"time\"])\n",
    "\n",
    "# Remove rows with missing values\n",
    "df.dropna(inplace=True)"
   ]
  },
  {
   "cell_type": "code",
   "execution_count": 4,
   "id": "09ab08b7",
   "metadata": {},
   "outputs": [],
   "source": [
    "df[\"hour\"] = df[\"time\"].dt.hour\n",
    "df[\"dayofyear\"] = df[\"time\"].dt.dayofyear\n",
    "df[\"year\"] = df[\"time\"].dt.year"
   ]
  },
  {
   "cell_type": "code",
   "execution_count": null,
   "id": "d0658526",
   "metadata": {},
   "outputs": [],
   "source": []
  }
 ],
 "metadata": {
  "kernelspec": {
   "display_name": ".venv",
   "language": "python",
   "name": "python3"
  },
  "language_info": {
   "codemirror_mode": {
    "name": "ipython",
    "version": 3
   },
   "file_extension": ".py",
   "mimetype": "text/x-python",
   "name": "python",
   "nbconvert_exporter": "python",
   "pygments_lexer": "ipython3",
   "version": "3.13.3"
  }
 },
 "nbformat": 4,
 "nbformat_minor": 5
}
