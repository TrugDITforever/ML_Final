{
 "cells": [
  {
   "cell_type": "code",
   "execution_count": 4,
   "id": "938dae82",
   "metadata": {},
   "outputs": [
    {
     "name": "stdout",
     "output_type": "stream",
     "text": [
      "📡 Bắt đầu crawl dữ liệu thời tiết theo giờ Đà Nẵng...\n",
      "✅ Năm 2020 - crawl thành công!\n",
      "✅ Năm 2021 - crawl thành công!\n",
      "✅ Năm 2022 - crawl thành công!\n",
      "✅ Năm 2023 - crawl thành công!\n",
      "✅ Năm 2024 - crawl thành công!\n",
      "✅ Năm 2025 - crawl thành công!\n",
      "\n",
      "📁 Dữ liệu đã lưu vào: weather_hourly_danang_2020_2023.csv\n"
     ]
    }
   ],
   "source": [
    "import requests\n",
    "import pandas as pd\n",
    "from datetime import datetime\n",
    "\n",
    "latitude = 16.0544\n",
    "longitude = 108.2022\n",
    "\n",
    "start_year = 2020\n",
    "end_year = 2025\n",
    "\n",
    "# Tham số hourly\n",
    "hourly_params = \"temperature_2m,relative_humidity_2m,precipitation,weather_code,rain,wind_speed_10m\"\n",
    "timezone = \"Asia/Bangkok\"\n",
    "\n",
    "# Tổng hợp dữ liệu\n",
    "all_data = pd.DataFrame()\n",
    "\n",
    "print(\"📡 Bắt đầu crawl dữ liệu thời tiết theo giờ Đà Nẵng...\")\n",
    "\n",
    "for year in range(start_year, end_year + 1):\n",
    "    start_date = f\"{year}-01-01\"\n",
    "    end_date = f\"{year}-04-24\"\n",
    "\n",
    "    url = \"https://archive-api.open-meteo.com/v1/archive\"\n",
    "    params = {\n",
    "        \"latitude\": latitude,\n",
    "        \"longitude\": longitude,\n",
    "        \"start_date\": start_date,\n",
    "        \"end_date\": end_date,\n",
    "        \"hourly\": hourly_params,\n",
    "        \"timezone\": timezone\n",
    "    }\n",
    "\n",
    "    response = requests.get(url, params=params)\n",
    "\n",
    "    if response.status_code == 200:\n",
    "        json_data = response.json()\n",
    "        df = pd.DataFrame(json_data['hourly'])\n",
    "        all_data = pd.concat([all_data, df], ignore_index=True)\n",
    "        print(f\"✅ Năm {year} - crawl thành công!\")\n",
    "    else:\n",
    "        print(f\"❌ Lỗi năm {year}: {response.status_code} - {response.text}\")\n",
    "\n",
    "# Lưu ra file CSV\n",
    "filename = \"weather_hourly_danang_2020_2023.csv\"\n",
    "all_data.to_csv(filename, index=False)\n",
    "print(f\"\\n📁 Dữ liệu đã lưu vào: {filename}\")\n"
   ]
  }
 ],
 "metadata": {
  "kernelspec": {
   "display_name": "spacy_kernel",
   "language": "python",
   "name": "my_env"
  },
  "language_info": {
   "codemirror_mode": {
    "name": "ipython",
    "version": 3
   },
   "file_extension": ".py",
   "mimetype": "text/x-python",
   "name": "python",
   "nbconvert_exporter": "python",
   "pygments_lexer": "ipython3",
   "version": "3.12.4"
  }
 },
 "nbformat": 4,
 "nbformat_minor": 5
}
